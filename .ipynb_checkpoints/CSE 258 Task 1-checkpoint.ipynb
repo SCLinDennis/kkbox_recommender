{
 "cells": [
  {
   "cell_type": "code",
   "execution_count": 85,
   "metadata": {},
   "outputs": [],
   "source": [
    "import os\n",
    "import pandas as pd\n",
    "import numpy as np\n",
    "import numpy \n",
    "import sys\n",
    "from collections import *\n",
    "pd.options.mode.chained_assignment = None\n",
    "from tqdm import tqdm"
   ]
  },
  {
   "cell_type": "code",
   "execution_count": 28,
   "metadata": {},
   "outputs": [],
   "source": [
    "os.chdir('/Users/DennisLin/Documents/Python/CSE258/final/kkbox_recommender/')\n",
    "data_path = './kkbox-music-recommendation-challenge/'\n",
    "song_path = os.path.join(data_path, 'songs.csv')\n",
    "song_info = os.path.join(data_path, 'song_extra_info.csv')\n",
    "train_path = os.path.join(data_path, 'train.csv')"
   ]
  },
  {
   "cell_type": "code",
   "execution_count": 3,
   "metadata": {},
   "outputs": [
    {
     "name": "stdout",
     "output_type": "stream",
     "text": [
      "members.csv               song_extra_info.csv       test.csv\r\n",
      "members.csv.7z            song_extra_info.csv.7z    test.csv.7z\r\n",
      "sample_submission.csv     songs.csv                 train.csv\r\n",
      "sample_submission.csv.7z  songs.csv.7z              train.csv.7z\r\n"
     ]
    }
   ],
   "source": [
    "ls kkbox-music-recommendation-challenge/\n"
   ]
  },
  {
   "cell_type": "markdown",
   "metadata": {},
   "source": [
    "### Members"
   ]
  },
  {
   "cell_type": "code",
   "execution_count": 137,
   "metadata": {},
   "outputs": [],
   "source": [
    "class Members():\n",
    "    def __init__(self, path):\n",
    "        self.members = pd.read_csv(path)\n",
    "        self.preprocess()\n",
    "    \n",
    "    def preprocess(self):\n",
    "        '''\n",
    "        1. remove wierd age\n",
    "        2. replace registers -> years\n",
    "        3. add using date\n",
    "        4. gender to three class\n",
    "        '''\n",
    "        #print info\n",
    "        self.info()\n",
    "        \n",
    "        # 1\n",
    "        wierd_age = list()\n",
    "        for age, count in Counter(self.members['bd']).items():\n",
    "            if count < 10:\n",
    "                wierd_age.append(age)\n",
    "        for drop_age in wierd_age:\n",
    "            self.members = self.members[self.members['bd'] != drop_age]        \n",
    "        \n",
    "        #2 & 3\n",
    "        self.members['registration_init_time'] = pd.to_datetime(self.members['registration_init_time'], format='%Y%m%d')\n",
    "        self.members['expiration_date'] = pd.to_datetime(self.members['expiration_date'], format='%Y%m%d')\n",
    "        self.members = self.members[self.members['expiration_date'] != '1970-01-01 00:00:00']\n",
    "        self.members['activation_days'] = self.members['expiration_date'] - self.members['registration_init_time']\n",
    "        self.members['activation_days'].astype(int)\n",
    "        self.members['expiration_date'] = pd.DatetimeIndex(self.members['expiration_date']).year\n",
    "        self.members['expiration_date'] -= min(self.members['expiration_date'])\n",
    "        self.members['registration_init_time'] = pd.DatetimeIndex(self.members['registration_init_time']).year\n",
    "        self.members['registration_init_time'] -= min(self.members['registration_init_time'])\n",
    "\n",
    "\n",
    "        \n",
    "        #4    \n",
    "        self.members['gender'][self.members['gender'].isnull()] = 0\n",
    "        self.members['gender'][self.members['gender'] == 'male'] = 1\n",
    "        self.members['gender'][self.members['gender'] == 'female'] = -1\n",
    "        \n",
    "        #print info\n",
    "        self.info()\n",
    "\n",
    "\n",
    "    \n",
    "    def info(self):\n",
    "        print(\"The number of total users is: {}\".format(len(self.members)))"
   ]
  },
  {
   "cell_type": "code",
   "execution_count": 138,
   "metadata": {},
   "outputs": [
    {
     "name": "stdout",
     "output_type": "stream",
     "text": [
      "The number of total users is: 34403\n",
      "The number of total users is: 34288\n"
     ]
    }
   ],
   "source": [
    "members = Members(os.path.join(data_path, 'members.csv'))"
   ]
  },
  {
   "cell_type": "markdown",
   "metadata": {},
   "source": [
    "### Songs"
   ]
  },
  {
   "cell_type": "code",
   "execution_count": 6,
   "metadata": {},
   "outputs": [],
   "source": [
    "class clean_song_data():\n",
    "    def __init__(self, song, song_info):\n",
    "        self.song = pd.read_csv(song)\n",
    "        self.song_info = pd.read_csv(song_info)\n",
    "        self.result = pd.merge(self.song, self.song_info, on='song_id')\n",
    "        self.filter_1()\n",
    "        self.filter_2()\n",
    "        self.add_count()\n",
    "        self.convert_type()\n",
    "        \n",
    "    def filter_1(self):\n",
    "        '''\n",
    "        1. Filter out NaN\n",
    "        2. Use only English songs\n",
    "        \n",
    "        '''\n",
    "        header = []\n",
    "        self.result = self.result.dropna()\n",
    "#         for i in self.result.columns:\n",
    "#             header.append(i)\n",
    "#         for i in header:\n",
    "#             self.result = self.result[pd.notnull(self.result[i])]\n",
    "        \n",
    "        # 52.0 = English\n",
    "        self.result = self.result[self.result.language == 52.0]\n",
    "    \n",
    "    def filter_2(self):\n",
    "        '''\n",
    "        genre and artist count > 15\n",
    "        \n",
    "        '''\n",
    "        header = ['genre_ids','artist_name']\n",
    "        for i in header:\n",
    "            k = pd.DataFrame(self.result.groupby(i).size().items())\n",
    "            k = k.rename(columns={0: 'item', 1: 'count'})\n",
    "            k = k[k['count']>15]\n",
    "            self.result = self.result[self.result[i].isin(k['item'])]\n",
    "            self.result.head()\n",
    "            print(i,len(self.result))\n",
    "            \n",
    "    def add_count(self):\n",
    "        '''\n",
    "        add count for genre, composer \n",
    "        \n",
    "        '''\n",
    "        header = ['genre_ids', 'composer']\n",
    "        name = ['gener_count', 'composer_count']\n",
    "        for num,i in enumerate(header):\n",
    "            l = []\n",
    "            for j in self.result[i]:\n",
    "                l.append(len(j.split('|')))\n",
    "            self.result[name[num]] = l\n",
    "            \n",
    "    def convert_type(self):\n",
    "        '''\n",
    "        Convert str to list\n",
    "        '''\n",
    "        tmp = []\n",
    "        for i in self.result['genre_ids'].tolist():\n",
    "            tmp.append(list(map(int,i.split('|'))))\n",
    "        self.result['genre_ids_list'] = tmp"
   ]
  },
  {
   "cell_type": "code",
   "execution_count": 121,
   "metadata": {},
   "outputs": [
    {
     "name": "stdout",
     "output_type": "stream",
     "text": [
      "genre_ids 168873\n",
      "artist_name 121316\n"
     ]
    }
   ],
   "source": [
    "song = clean_song_data(song_path, song_info)"
   ]
  },
  {
   "cell_type": "markdown",
   "metadata": {},
   "source": [
    "### Train"
   ]
  },
  {
   "cell_type": "code",
   "execution_count": 125,
   "metadata": {},
   "outputs": [],
   "source": [
    "class Data():\n",
    "    def __init__(self, path1, songs, users):\n",
    "        self.train = pd.read_csv(path1)\n",
    "        self.songs = songs\n",
    "        self.users = users\n",
    "        self.train = self.filterd(self.train)\n",
    "        Ntrain = int(len(self.train)*0.8)\n",
    "        Nval = int(len(self.train)*0.1)\n",
    "        \n",
    "        train = self.train[:Ntrain]\n",
    "        val = self.train[Ntrain:Ntrain+Nval]\n",
    "        test = self.train[Ntrain+Nval:]\n",
    "        self.train = train\n",
    "        self.val = val\n",
    "        self.test = test\n",
    "        \n",
    "        self.people2songs = self.train.groupby('msno')[\"song_id\"].apply(list)\n",
    "        self.songs2count = self.train.groupby('song_id').size()\n",
    "        self.song2user = self.train.groupby(\"song_id\")[\"msno\"].apply(list)\n",
    "#         self.songs_set = set(self.songs['song_id'])\n",
    "        self.all = pd.concat([self.train, self.test], axis=0, sort=False)\n",
    "        self.people2songs_all = self.all.groupby('msno')[\"song_id\"].apply(set)\n",
    "    \n",
    "    def filterd(self, pd):\n",
    "        valid_user = set(self.users.members['msno'])\n",
    "        valid_song = set(self.songs.result['song_id'])\n",
    "        pd = pd[pd['msno'].isin(valid_user)]\n",
    "        pd = pd[pd['song_id'].isin(valid_song)]\n",
    "        return pd\n",
    "        \n",
    "def sample(positive_data, all_songs, people2songs):\n",
    "    negative_dict = dict()\n",
    "    for people, count in tqdm(positive_data.groupby('msno').size().items()):\n",
    "        negative_dict[people] = random.sample(all_songs - people2songs[people], count)\n",
    "    append_list = []\n",
    "    for people, songs in negative_dict.items():\n",
    "        for song in songs:\n",
    "            append_list.append([people, song, 0])\n",
    "    positive_matrix = np.hstack((positive_data.values[:, :2], np.ones((positive_data.shape[0], 1))))\n",
    "    return np.vstack((positive_matrix, np.array(append_list)))"
   ]
  },
  {
   "cell_type": "code",
   "execution_count": 126,
   "metadata": {},
   "outputs": [],
   "source": [
    "data = Data(train_path, song, members)"
   ]
  },
  {
   "cell_type": "code",
   "execution_count": 139,
   "metadata": {},
   "outputs": [],
   "source": [
    "class Model():\n",
    "    def __init__(self, train):\n",
    "        self.train = train\n",
    "        self.pop = self.gen_pop()\n",
    "    \n",
    "    def gen_pop(self, percentile=0.5):\n",
    "        counts = 0\n",
    "        out_set = set()\n",
    "        vc= self.train['song_id'].value_counts()\n",
    "        for song, count in vc.items():\n",
    "            out_set.add(song)\n",
    "            counts += count\n",
    "            if counts > len(data.train)*percentile:\n",
    "                break\n",
    "        return out_set\n",
    "    \n",
    "    def baseline(self, u, song):\n",
    "        if song in self.pop:\n",
    "            return 1\n",
    "        else:\n",
    "            return 0\n",
    "        \n",
    "    \n",
    "class Evaluation():\n",
    "    def __init__(self, data):\n",
    "        self.test = data.test\n",
    "        \n",
    "    def accuracy(self, model):\n",
    "        test_matrix = self.test.values\n",
    "        label = []\n",
    "        pred = []\n",
    "        for i in range(test_matrix.shape[0]):\n",
    "            u, s, l = test_matrix[i][0], test_matrix[i][1], test_matrix[i][5]\n",
    "            pred.append(model(u, s))\n",
    "            label.append(l)\n",
    "        \n",
    "        return sum(np.array(pred) == np.array(label))/len(label)"
   ]
  },
  {
   "cell_type": "code",
   "execution_count": 140,
   "metadata": {},
   "outputs": [
    {
     "name": "stdout",
     "output_type": "stream",
     "text": [
      "Accuracy of prediction is 0.5626725394708273\n"
     ]
    }
   ],
   "source": [
    "model = Model(data.train)\n",
    "eval = Evaluation(data)\n",
    "print(\"Accuracy of prediction is {}\".format(eval.accuracy(model.baseline)))"
   ]
  },
  {
   "cell_type": "markdown",
   "metadata": {},
   "source": []
  },
  {
   "cell_type": "code",
   "execution_count": 53,
   "metadata": {},
   "outputs": [],
   "source": []
  },
  {
   "cell_type": "code",
   "execution_count": null,
   "metadata": {},
   "outputs": [],
   "source": []
  }
 ],
 "metadata": {
  "kernelspec": {
   "display_name": "Python [conda env:py35]",
   "language": "python",
   "name": "conda-env-py35-py"
  },
  "language_info": {
   "codemirror_mode": {
    "name": "ipython",
    "version": 3
   },
   "file_extension": ".py",
   "mimetype": "text/x-python",
   "name": "python",
   "nbconvert_exporter": "python",
   "pygments_lexer": "ipython3",
   "version": "3.7.3"
  }
 },
 "nbformat": 4,
 "nbformat_minor": 2
}
